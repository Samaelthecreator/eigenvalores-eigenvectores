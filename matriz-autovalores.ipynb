{
 "cells": [
  {
   "cell_type": "markdown",
   "metadata": {},
   "source": [
    "$$\\,\\,\\,\\,Vectores \\,\\,propios\\,\\,y\\,\\,valores\\,\\,propios.$$     "
   ]
  },
  {
   "cell_type": "markdown",
   "metadata": {},
   "source": [
    "Sea $V$ un espacio vectorial sobre el cuerpo $F$ y sea $T$ un operador lineal sobre $V$. Un $\\textbf{Valor propio}$ de $T$ es un escalar $\\lambda \\in F$ tal que existe un vector no nulo $\\vec{x}$ que cumpla la condición:\n",
    "\n",
    "$\\,\\,\\,\\,\\,\\,\\,\\,\\,\\,\\,\\,\\,\\,\\,T(\\vec{x}) = \\lambda \\vec{x} \\,\\,\\,\\,\\, \\rightarrow \\,\\,\\,\\,\\, Ecuación\\,\\,carácteristica$. \n",
    "\n",
    "Sí $\\lambda$ es un valor propio de de T, entonces cualquier $\\vec{x}$ que así mismo satisfaga la ecuación se le denomina $\\textbf{vector propio}$.\n",
    "\n",
    "°La colección de todos los $\\vec{x}$ tales que cumplan la ecuación característica se llama $\\textbf{espacio propio asociado}$ a $\\lambda$ y es un subespacio de $V$."
   ]
  },
  {
   "cell_type": "code",
   "execution_count": null,
   "metadata": {},
   "outputs": [],
   "source": []
  },
  {
   "cell_type": "markdown",
   "metadata": {},
   "source": [
    "El cuerpo $F$ representa el conjunto de elementos (numeros) con los que se trabaja y $V$ el espacio de \"trabajo\".\n",
    "En el contexto actual, T es la matriz de eigenvectores que denominaremos como $A$ la cual representa el máximo cambio (varianza, covarianza) de la varable aleatoria $\\vec{x}_{i}$.\n",
    "Teniendo la ecuación característica expresada en forma indicial tenemos:\n",
    "\n",
    "$$\\,\\,\\,\\,\\,\\,\\,\\,\\,\\,T(\\vec{x}) = \\lambda \\vec{x} \\,\\,\\,\\,\\, \\rightarrow  A_{ij}x_{j} = \\lambda x_{i}$$\n",
    "Despejando la ecuación tenemos;\n",
    "\n",
    "$$\\,\\,\\,\\,\\,\\,\\,\\,\\,\\,A\\vec{x} = \\lambda \\vec{x}$$\n",
    "\n",
    "$$\\,\\,\\,\\,\\,\\,\\,\\,\\,\\,A\\vec{x} - \\lambda \\vec{x} = \\vec{0}$$\n",
    "\n",
    "Está ecuación se reescribe como;\n",
    "\n",
    "$$\\,\\,\\,\\,\\,\\,\\,\\,\\,\\,A\\vec{x} - \\lambda \\mathbb{I}\\vec{x} = \\vec{0}$$\n",
    "\n",
    "En notación indicial tenemos;\n",
    "\n",
    "$$\\,\\,\\,\\,\\,\\,\\,\\,\\,\\,A_{ij}{x}_{j} - \\lambda \\mathbb{I}_{ij}{x}_{j} = {0}_{i}$$\n",
    "lo cual es equivalente y así, podemos operar y factorizar $\\vec{x}$ por la derecha, teniendo entonces:\n",
    "\n",
    "\n",
    "$$\\,\\,\\,\\,\\,\\,\\,\\,\\,\\, (A_{ij} - \\lambda \\mathbb{I}_{ij})x_{i} = {0}_{i}$$\n",
    "\n",
    "Esta ecuación se cumple si:\n",
    "\n",
    "\n",
    "$$\\,\\,\\,\\,\\,\\,\\,\\,\\,\\, det(A_{ij}-\\lambda \\mathbb{I}_{ij}) = 0$$\n",
    "\n",
    "Lo cual nos arroja el polinomio carácteristico para encontrar los eigenvalores.\n",
    "\n",
    "\n",
    "\n",
    "\n",
    "\n",
    "\n"
   ]
  },
  {
   "cell_type": "markdown",
   "metadata": {},
   "source": []
  }
 ],
 "metadata": {
  "language_info": {
   "name": "python"
  }
 },
 "nbformat": 4,
 "nbformat_minor": 2
}
