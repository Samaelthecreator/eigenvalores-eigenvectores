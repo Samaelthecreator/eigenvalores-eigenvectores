{
 "cells": [
  {
   "cell_type": "markdown",
   "metadata": {},
   "source": [
    "$$\\,\\,\\,\\,Vectores \\,\\,propios\\,\\,y\\,\\,valores\\,\\,propios.$$     "
   ]
  },
  {
   "cell_type": "markdown",
   "metadata": {},
   "source": [
    "Sea $V$ un espacio vectorial sobre el cuerpo $F$ y sea $T$ un operador lineal sobre $V$. Un $\\textbf{Valor propio}$ de $T$ es un escalar $\\lambda \\in F$ tal que existe un vector no nulo $\\vec{x}$ que cumpla la condición:\n",
    "\n",
    "$\\,\\,\\,\\,\\,\\,\\,\\,\\,\\,\\,\\,\\,\\,\\,T(\\vec{x}) = \\lambda \\vec{x} \\,\\,\\,\\,\\, \\rightarrow \\,\\,\\,\\,\\, Ecuación\\,\\,carácteristica$. \n",
    "\n",
    "Sí $\\lambda$ es un valor propio de de T, entonces cualquier $\\vec{x}$ que así mismo satisfaga la ecuación se le denomina $\\textbf{vector propio}$.\n",
    "\n",
    "°La colección de todos los $\\vec{x}$ tales que cumplan la ecuación característica se llama $\\textbf{espacio propio asociado}$ a $\\lambda$ y es un subespacio de $V$."
   ]
  },
  {
   "cell_type": "markdown",
   "metadata": {},
   "source": [
    "El cuerpo $F$ representa el conjunto de elementos (numeros) con los que se trabaja y $V$ el espacio de \"trabajo\".\n",
    "En el contexto actual, T es la matriz de eigenvectores que denominaremos como $A$ la cual representa el máximo cambio (varianza, covarianza) de la varable aleatoria $\\vec{x}_{i}$.\n",
    "Teniendo la ecuación característica expresada en forma indicial tenemos:\n",
    "\n",
    "$$\\,\\,\\,\\,\\,\\,\\,\\,\\,\\,T(\\vec{x}) = \\lambda \\vec{x} \\,\\,\\,\\,\\, \\rightarrow  A_{ij}x_{j} = \\lambda x_{i}$$\n",
    "Despejando la ecuación tenemos;\n",
    "\n",
    "$$\\,\\,\\,\\,\\,\\,\\,\\,\\,\\,A\\vec{x} = \\lambda \\vec{x}$$\n",
    "\n",
    "$$\\,\\,\\,\\,\\,\\,\\,\\,\\,\\,A\\vec{x} - \\lambda \\vec{x} = \\vec{0}$$\n",
    "\n",
    "Está ecuación se reescribe como;\n",
    "\n",
    "$$\\,\\,\\,\\,\\,\\,\\,\\,\\,\\,A\\vec{x} - \\lambda \\mathbb{I}\\vec{x} = \\vec{0}$$\n",
    "\n",
    "En notación indicial tenemos;\n",
    "\n",
    "$$\\,\\,\\,\\,\\,\\,\\,\\,\\,\\,A_{ij}{x}_{j} - \\lambda \\mathbb{I}_{ij}{x}_{j} = {0}_{i}$$\n",
    "lo cual es equivalente y así, podemos operar y factorizar $\\vec{x}$ por la derecha, teniendo entonces:\n",
    "\n",
    "\n",
    "$$\\,\\,\\,\\,\\,\\,\\,\\,\\,\\, (A_{ij} - \\lambda \\mathbb{I}_{ij})x_{i} = {0}_{i}$$\n",
    "\n",
    "Esta ecuación se cumple si:\n",
    "\n",
    "\n",
    "$$\\,\\,\\,\\,\\,\\,\\,\\,\\,\\, det(A_{ij}-\\lambda \\mathbb{I}_{ij}) = 0$$\n",
    "\n",
    "Lo cual nos arroja el polinomio carácteristico para encontrar los eigenvalores.\n",
    "\n",
    "\n",
    "\n",
    "\n",
    "\n",
    "\n"
   ]
  },
  {
   "cell_type": "markdown",
   "metadata": {},
   "source": [
    "Construiremos la función determinante, la función eq característica para unicamente mandarlas llamar."
   ]
  },
  {
   "cell_type": "markdown",
   "metadata": {},
   "source": [
    "$\\,\\,\\,\\,\\,\\,\\,\\,\\,\\,\\,\\,\\,\\,\\,\\,\\,\\,\\,\\,\\,\\,\\,\\,\\,\\,\\,\\,\\,\\,Determinante\\,\\,de\\,\\,una\\,\\,matriz\\,\\,cuadrada$.\n",
    "\n",
    "Tomaremos la $\\textbf{formula de Leibniz}$ que expresa el determinante de una matriz cuadrada en términos de las permutaciones de los elementos de la matrix.\n",
    "Si $A$ es una matriz $nxn$, donde $a_{ij}$ son las entradas de la i-esima fila y la j-esima columna de A, la formula esta dada por:\n",
    "\n",
    "$$det(a) = \\sum_{\\sigma \\in S_{n}} sgn(\\sigma) \\prod_{i = 1}^{n}a_{\\sigma (i) i}$$\n",
    "\n",
    "Donde $sgn$ es la $función \\,\\ sign$ de permutaciones en el grupo de permutaciones $S_{n}$ la cual retorna $+1$ y $-1$ para cada permitacion par respectivamente.\n",
    "\n",
    "Otra forma similar es utilizar el $Tensor\\,\\,de\\,Levi\\,Civita\\,$ que tiene la definición siguiente;\n",
    "\n",
    "$$\\begin{cases}\n",
    " +1 \\text{ sí (i,j,k,...) } es\\,permutación\\,par \\\\ \n",
    " -1 \\text{ sí (i,j,k,...) } es\\,permutación\\, impar\n",
    " \\\\ \n",
    "  0  \\,\\,\\,\\, \\text{ sí } i=j\\,\\,ó\\,\\,j=k\\,\\,ó\\,\\,k=i \n",
    "\\end{cases}$$\n",
    "\n",
    "La formula para el determinante es:\n",
    "\n",
    "$ \n",
    "\\,\\,\\,\\,\\,\\,\\,\\,\\,\\,\\,\\,\\,\\,\\,\\,\\,\\,\\,\\,\\,\\,\\,\\,det(A) = \\sum_{perm (\\sigma)}\\epsilon_{\\sigma(1)}\\epsilon_{\\sigma(2)}...\\epsilon_{\\sigma(n)}\\prod_{i=1}^{n}A_{i\\sigma (i)}$\n",
    "\n",
    "Definimos una función del simbolo de Levi Civita:\n"
   ]
  },
  {
   "cell_type": "code",
   "execution_count": 41,
   "metadata": {},
   "outputs": [
    {
     "name": "stdout",
     "output_type": "stream",
     "text": [
      "[1, 2, 3]\n"
     ]
    }
   ],
   "source": [
    "import numpy as np\n",
    "\n",
    "\n",
    "def lcivita(indices):               #el tensor se dividirá en el vector de indices y el escalar epsilon\n",
    "    ind = list(range(1,len(indices)+1,1))        \n",
    "    #for j in range(0,len(ind),1):\n",
    "        # if j%2 == 0:            \n",
    "        #     ind[j] = 1\n",
    "        # else:\n",
    "        #     e[j] = 2\n",
    "\n",
    "    return ind\n",
    "\n",
    "\n",
    "print(lcivita([3,2,3]))  \n",
    "\n",
    "            \n",
    "    \n",
    "    \n",
    "     \n",
    " "
   ]
  },
  {
   "cell_type": "code",
   "execution_count": null,
   "metadata": {},
   "outputs": [],
   "source": []
  },
  {
   "cell_type": "code",
   "execution_count": null,
   "metadata": {},
   "outputs": [],
   "source": [
    "#Determinante de una matriz.\n",
    "\n",
    "\n",
    "\n",
    "def det(matriz):\n",
    "    "
   ]
  },
  {
   "cell_type": "code",
   "execution_count": 21,
   "metadata": {},
   "outputs": [
    {
     "name": "stdout",
     "output_type": "stream",
     "text": [
      "            0           1           2           3           4\n",
      "0  1.0-lambda         0.0         0.0         0.0         0.0\n",
      "1         0.0  1.0-lambda         0.0         0.0         0.0\n",
      "2         0.0         0.0  1.0-lambda         0.0         0.0\n",
      "3         0.0         0.0         0.0  1.0-lambda         0.0\n",
      "4         0.0         0.0         0.0         0.0  1.0-lambda\n"
     ]
    }
   ],
   "source": [
    "#Escribimos una función que calcule el determinante de A_{ij}-/lambda I_{ij}:\n",
    "import pandas as pd\n",
    "#Construimos el término /lambda I_{ij}:\n",
    "\n",
    "dimension = 5\n",
    "matriz = pd.DataFrame(np.ones((dimension,dimension)))\n",
    "\n",
    "def eqcaract(dim,lmbda,A):\n",
    "    identidad = pd.DataFrame(np.zeros((dim,dim)))\n",
    "    M = pd.DataFrame(np.zeros((dim,dim)))\n",
    "    for n in identidad:\n",
    "        identidad.iloc[n,n]= \"lambda\"      #Determinamos la matriz identidad multiplicada por Lambda\n",
    "        for i in identidad:\n",
    "            M.iloc[i,i] = str(A.iloc[i,i]) + \"-\" + str(identidad.iloc[i,i]) \n",
    "        \n",
    "        \n",
    "    return M\n",
    "              \n",
    "print(eqcaract(dimension,2,matriz))"
   ]
  },
  {
   "cell_type": "markdown",
   "metadata": {},
   "source": []
  }
 ],
 "metadata": {
  "kernelspec": {
   "display_name": "base",
   "language": "python",
   "name": "python3"
  },
  "language_info": {
   "codemirror_mode": {
    "name": "ipython",
    "version": 3
   },
   "file_extension": ".py",
   "mimetype": "text/x-python",
   "name": "python",
   "nbconvert_exporter": "python",
   "pygments_lexer": "ipython3",
   "version": "3.9.13"
  }
 },
 "nbformat": 4,
 "nbformat_minor": 2
}
